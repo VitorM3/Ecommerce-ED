{
 "cells": [
  {
   "cell_type": "code",
   "execution_count": null,
   "id": "85fdb364-89b7-4b8e-b462-e9c574292f42",
   "metadata": {},
   "outputs": [],
   "source": [
    "print('HELP')"
   ]
  }
 ],
 "metadata": {
  "kernelspec": {
   "display_name": "Python 3 (ipykernel)",
   "language": "python",
   "name": "python3"
  },
  "language_info": {
   "codemirror_mode": {
    "name": "ipython",
    "version": 3
   },
   "file_extension": ".py",
   "mimetype": "text/x-python",
   "name": "python",
   "nbconvert_exporter": "python",
   "pygments_lexer": "ipython3",
   "version": "3.10.5"
  }
 },
 "nbformat": 4,
 "nbformat_minor": 5
}
